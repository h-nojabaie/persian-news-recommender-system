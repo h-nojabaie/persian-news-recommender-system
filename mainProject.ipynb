{
 "cells": [
  {
   "cell_type": "code",
   "execution_count": null,
   "metadata": {},
   "outputs": [],
   "source": [
    "PATH_NEWS_ARTICLES=\"News.csv\"\n",
    "ARTICLES_READ=[3,7,8,17,18]\n",
    "NUM_RECOMMENDED_ARTICLES=500"
   ]
  },
  {
   "cell_type": "code",
   "execution_count": null,
   "metadata": {},
   "outputs": [],
   "source": [
    "# installing libraries\n",
    "try:\n",
    "    \n",
    "    import pandas as pd\n",
    "    from sklearn.feature_extraction.text import TfidfVectorizer\n",
    "    from sklearn.metrics.pairwise import cosine_similarity\n",
    "    \n",
    "    import nltk\n",
    "    import hazm\n",
    "    normalizer = hazm.Normalizer()\n",
    "except ImportError:\n",
    "    print('You are missing some packages! ' \\\n",
    "          'We will try installing them before continuing!')\n",
    "    !pip install --user \"numpy\" \"pandas\" \"sklearn\" \"nltk\"\n",
    "    import numpy\n",
    "    import pandas as pd\n",
    "    from sklearn.feature_extraction.text import TfidfVectorizer\n",
    "    from sklearn.metrics.pairwise import cosine_similarity\n",
    "    import re\n",
    "    \n",
    "    \n",
    "    \n",
    "    print('Done!')"
   ]
  },
  {
   "cell_type": "code",
   "execution_count": null,
   "metadata": {},
   "outputs": [],
   "source": [
    "news_articles = pd.read_csv(PATH_NEWS_ARTICLES,encoding=\"utf8\")\n",
    "news_articles.head()"
   ]
  },
  {
   "cell_type": "code",
   "execution_count": null,
   "metadata": {},
   "outputs": [],
   "source": [
    "#Select relevant columns and remove rows with missing values\n",
    "news_articles = news_articles[['number','title','news']].dropna()\n",
    "#articles is a list of all articles\n",
    "articles = news_articles['news'].tolist()\n",
    "articles[0] #an uncleaned article"
   ]
  },
  {
   "cell_type": "code",
   "execution_count": null,
   "metadata": {},
   "outputs": [],
   "source": [
    "from hazm import *\n",
    "from __future__ import unicode_literals\n",
    "# https://www.sobhe.ir/hazm/"
   ]
  },
  {
   "cell_type": "code",
   "execution_count": null,
   "metadata": {},
   "outputs": [],
   "source": [
    "# tokenizing news article\n",
    "def clean_tokenize(document):\n",
    "    document=normalizer.normalize(document)\n",
    "    tokens = hazm.word_tokenize(document)              #Tokenize sentences\n",
    "    cleaned_article = ' '.join([item for item in tokens])    #Stemming each token\n",
    "    return cleaned_article"
   ]
  },
  {
   "cell_type": "code",
   "execution_count": null,
   "metadata": {},
   "outputs": [],
   "source": [
    "cleaned_articles = list (map(clean_tokenize, articles[0:500]))\n",
    "cleaned_articles  #a cleaned, tokenized  "
   ]
  },
  {
   "cell_type": "code",
   "execution_count": null,
   "metadata": {},
   "outputs": [],
   "source": [
    "#Get user representation in terms of words associated with read articles\n",
    "user_articles = ' '.join(cleaned_articles[i] for i in ARTICLES_READ)"
   ]
  },
  {
   "cell_type": "code",
   "execution_count": null,
   "metadata": {
    "scrolled": false
   },
   "outputs": [],
   "source": [
    "user_articles"
   ]
  },
  {
   "cell_type": "code",
   "execution_count": null,
   "metadata": {},
   "outputs": [],
   "source": [
    "\n",
    "path=\"/Users/nojab/Documents/pythonproject/persian\"\n",
    "persian= open(path,encoding=\"utf8\")\n",
    "stop_words = persian\n"
   ]
  },
  {
   "cell_type": "code",
   "execution_count": null,
   "metadata": {},
   "outputs": [],
   "source": [
    "\n",
    "persian_stop_word =list()\n",
    "for line in persian:\n",
    "    line = line.strip('\\n')\n",
    "    line = line.strip('\\t')\n",
    "    persian_stop_word.append(line)\n",
    "persian_stop_word"
   ]
  },
  {
   "cell_type": "code",
   "execution_count": null,
   "metadata": {},
   "outputs": [],
   "source": [
    "#Generate tfidf matrix model for entire corpus\n",
    "from sklearn.feature_extraction.text import TfidfVectorizer\n",
    "tfidf_matrix = TfidfVectorizer(sublinear_tf=True,max_df=0.5,stop_words=persian_stop_word, min_df=2)\n",
    "article_tfidf_matrix = tfidf_matrix.fit_transform(cleaned_articles)\n",
    "article_tfidf_matrix #tfidf vector of an article"
   ]
  },
  {
   "cell_type": "code",
   "execution_count": null,
   "metadata": {},
   "outputs": [],
   "source": [
    "#Generate tfidf matrix model for read articles\n",
    "user_article_tfidf_vector = tfidf_matrix.transform([user_articles])\n",
    "user_article_tfidf_vector"
   ]
  },
  {
   "cell_type": "code",
   "execution_count": null,
   "metadata": {
    "scrolled": true
   },
   "outputs": [],
   "source": [
    "user_article_tfidf_vector.toarray()"
   ]
  },
  {
   "cell_type": "code",
   "execution_count": null,
   "metadata": {},
   "outputs": [],
   "source": [
    "# Calculate cosine similarity between user read articles and unread articles"
   ]
  },
  {
   "cell_type": "code",
   "execution_count": null,
   "metadata": {},
   "outputs": [],
   "source": [
    "from sklearn.metrics.pairwise import cosine_similarity\n",
    "articles_similarity_score=cosine_similarity(article_tfidf_matrix, user_article_tfidf_vector)"
   ]
  },
  {
   "cell_type": "code",
   "execution_count": null,
   "metadata": {},
   "outputs": [],
   "source": [
    "recommended_articles_id = articles_similarity_score.flatten().argsort()[:5]"
   ]
  },
  {
   "cell_type": "code",
   "execution_count": null,
   "metadata": {},
   "outputs": [],
   "source": [
    "recommended_articles_id"
   ]
  },
  {
   "cell_type": "code",
   "execution_count": null,
   "metadata": {},
   "outputs": [],
   "source": [
    "#Remove read articles from recommendations\n",
    "final_recommended_articles_id = [article_id for article_id in recommended_articles_id \n",
    "                                 if article_id not in ARTICLES_READ ][:NUM_RECOMMENDED_ARTICLES]"
   ]
  },
  {
   "cell_type": "code",
   "execution_count": null,
   "metadata": {},
   "outputs": [],
   "source": [
    "# Get the recommended news article\n",
    "final_recommended_articles_id"
   ]
  },
  {
   "cell_type": "code",
   "execution_count": null,
   "metadata": {},
   "outputs": [],
   "source": [
    "#Recommended Articles and their title\n",
    "print ('Articles Read')\n",
    "print (news_articles.loc[news_articles['number'].isin(ARTICLES_READ)]['title'])\n",
    "print ('\\n')\n",
    "print ('Recommender ')\n",
    "print (news_articles.loc[news_articles['number'].isin(final_recommended_articles_id)]['title'])"
   ]
  },
  {
   "cell_type": "code",
   "execution_count": null,
   "metadata": {},
   "outputs": [],
   "source": []
  },
  {
   "cell_type": "code",
   "execution_count": null,
   "metadata": {},
   "outputs": [],
   "source": []
  }
 ],
 "metadata": {
  "anaconda-cloud": {},
  "kernelspec": {
   "display_name": "Python 3 (ipykernel)",
   "language": "python",
   "name": "python3"
  },
  "language_info": {
   "codemirror_mode": {
    "name": "ipython",
    "version": 3
   },
   "file_extension": ".py",
   "mimetype": "text/x-python",
   "name": "python",
   "nbconvert_exporter": "python",
   "pygments_lexer": "ipython3",
   "version": "3.9.6"
  }
 },
 "nbformat": 4,
 "nbformat_minor": 1
}
