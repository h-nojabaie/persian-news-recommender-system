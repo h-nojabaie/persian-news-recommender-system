{
 "cells": [
  {
   "cell_type": "code",
   "execution_count": null,
   "metadata": {},
   "outputs": [],
   "source": [
    "import re\n",
    "\n",
    "import urllib.request, urllib.parse, urllib.error\n",
    "from bs4 import BeautifulSoup\n",
    "import ssl\n",
    "\n",
    "# Ignore SSL certificate errors\n",
    "ctx = ssl.create_default_context()\n",
    "ctx.check_hostname = False\n",
    "ctx.verify_mode = ssl.CERT_NONE\n",
    "\n"
   ]
  },
  {
   "cell_type": "code",
   "execution_count": null,
   "metadata": {
    "scrolled": true
   },
   "outputs": [],
   "source": [
    "# get links of news\n",
    "\n",
    "newsListunReaded=list()\n",
    "\n",
    "for year in range(1399,1400):\n",
    "    for month in range(11,12):\n",
    "        for day in range(15,28):\n",
    "            try:\n",
    "                for i in range(1,10):\n",
    "                    url = \"https://www.farsnews.ir/archive?cat=-1&subcat=-1&date=\" + str(year) + \"%2F\" + str(\n",
    "                        month) + \"%2F\" + str(day) + \"&p=\" + str(i)\n",
    "\n",
    "                    html = urllib.request.urlopen(url, context=ctx).read()\n",
    "                    soup = BeautifulSoup(html, 'html.parser')\n",
    "\n",
    "                    found = soup.find_all('a', 'href' == True)\n",
    "                    for f in found:\n",
    "\n",
    "                        if '/news/' in str(f):\n",
    "                            # found2 = my_function(2, url)\n",
    "                            print(\"yes\")\n",
    "                            d=f.get(\"href\")\n",
    "                            f='https://www.farsnews.ir/'+d\n",
    "                            print('https://www.farsnews.ir/'+d)\n",
    "                            if f not in newsListunReaded:\n",
    "                                newsListunReaded.append(f)\n",
    "                            print(len(newsListunReaded))\n",
    "\n",
    "\n",
    "\n",
    "            except:\n",
    "                continue\n"
   ]
  },
  {
   "cell_type": "code",
   "execution_count": null,
   "metadata": {},
   "outputs": [],
   "source": [
    "import requests\n",
    "import csv\n",
    "import pandas as pd\n",
    "\n",
    "from bs4 import BeautifulSoup\n",
    "linksFile = newsListunReaded \n",
    "list_news=[]\n",
    "new_no=0\n",
    "for line in linksFile:\n",
    "    \n",
    "    url = line.strip()\n",
    "    print(url)\n",
    "    page = requests.get(url)\n",
    "    soup = BeautifulSoup(page.text, 'html.parser')\n",
    "    rows=[]\n",
    "    ## get Title of the news\n",
    "    header = soup.find('h1')\n",
    "    if header==None:\n",
    "        continue\n",
    "        \n",
    "    else:  \n",
    "        title=header.text\n",
    "        print(header.text)\n",
    "        ## get text of the news\n",
    "        news=''\n",
    "        body = soup.find_all('p')\n",
    "        for paragraph in body[:len(body)-1]:\n",
    "            news=news+(paragraph.text)\n",
    "            print(paragraph.text)\n",
    "        new_no+=1\n",
    "        list_news.append({'number': new_no, 'link':url, 'title':title,'news':news})\n",
    "  \n",
    "\n",
    "\n",
    "   \n",
    "print(\"total news:\",new_no)\n"
   ]
  },
  {
   "cell_type": "code",
   "execution_count": null,
   "metadata": {},
   "outputs": [],
   "source": [
    "field_names = ['number', 'link', 'title','news'] \n",
    "with open('News.csv', 'w', encoding=\"utf-8\") as csvfile: \n",
    "    writer = csv.DictWriter(csvfile, fieldnames = field_names) \n",
    "    writer.writeheader() \n",
    "    writer.writerows(list_news)"
   ]
  },
  {
   "cell_type": "code",
   "execution_count": null,
   "metadata": {},
   "outputs": [],
   "source": [
    "import csv\n",
    "with open('News.csv', 'r', encoding=\"utf8\") as file:\n",
    "    reader = csv.reader(file)\n",
    "    for row in reader:\n",
    "        print(row)"
   ]
  },
  {
   "cell_type": "code",
   "execution_count": null,
   "metadata": {},
   "outputs": [],
   "source": []
  }
 ],
 "metadata": {
  "kernelspec": {
   "display_name": "Python 3 (ipykernel)",
   "language": "python",
   "name": "python3"
  },
  "language_info": {
   "codemirror_mode": {
    "name": "ipython",
    "version": 3
   },
   "file_extension": ".py",
   "mimetype": "text/x-python",
   "name": "python",
   "nbconvert_exporter": "python",
   "pygments_lexer": "ipython3",
   "version": "3.9.6"
  }
 },
 "nbformat": 4,
 "nbformat_minor": 4
}
